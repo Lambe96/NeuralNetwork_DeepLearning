{
  "cells": [
    {
      "cell_type": "markdown",
      "source": [
        "##Required libraries and settings"
      ],
      "metadata": {
        "id": "TnMY2joif3-x"
      }
    },
    {
      "cell_type": "code",
      "execution_count": null,
      "metadata": {
        "id": "dyYJQMffR7Z8"
      },
      "outputs": [],
      "source": [
        "!pip install plotly>=4.7.1\n",
        "!pip install matplotlib==3.5.1\n",
        "!pip install optuna\n",
        "!wget https://github.com/plotly/orca/releases/download/v1.2.1/orca-1.2.1-x86_64.AppImage -O /usr/local/bin/orca\n",
        "!chmod +x /usr/local/bin/orca\n",
        "!apt-get install xvfb libgtk2.0-0 libgconf-2-4"
      ]
    },
    {
      "cell_type": "markdown",
      "source": [
        "##Run the study and the training"
      ],
      "metadata": {
        "id": "3_rhIyOqf5cu"
      }
    },
    {
      "cell_type": "code",
      "execution_count": null,
      "metadata": {
        "id": "7R8vUpobcxbc"
      },
      "outputs": [],
      "source": [
        "!python Hype_study_Convaut.py"
      ]
    },
    {
      "cell_type": "markdown",
      "source": [
        "##Compress the results into a zip file"
      ],
      "metadata": {
        "id": "lVKqYR52gCm4"
      }
    },
    {
      "cell_type": "code",
      "execution_count": null,
      "metadata": {
        "id": "b_2CANu9n7g1"
      },
      "outputs": [],
      "source": [
        "!zip -r study_Convaut_results.zip study_Convaut_results"
      ]
    },
    {
      "cell_type": "markdown",
      "source": [
        "##Download locally the zip file containing the results"
      ],
      "metadata": {
        "id": "Jy-slF-lgGFq"
      }
    },
    {
      "cell_type": "code",
      "execution_count": null,
      "metadata": {
        "id": "lS5KnOOaMA1a"
      },
      "outputs": [],
      "source": [
        "from google.colab import files\n",
        "files.download('study_Convaut_results.zip')"
      ]
    }
  ],
  "metadata": {
    "colab": {
      "collapsed_sections": [],
      "name": "Convolutional_autoencoder.ipynb",
      "provenance": []
    },
    "kernelspec": {
      "display_name": "Python 3",
      "name": "python3"
    },
    "language_info": {
      "name": "python"
    },
    "accelerator": "GPU"
  },
  "nbformat": 4,
  "nbformat_minor": 0
}
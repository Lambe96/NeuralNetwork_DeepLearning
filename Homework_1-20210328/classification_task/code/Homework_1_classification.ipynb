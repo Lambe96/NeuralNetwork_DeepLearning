{
  "nbformat": 4,
  "nbformat_minor": 0,
  "metadata": {
    "colab": {
      "name": "Homework_1_classification.ipynb",
      "provenance": [],
      "collapsed_sections": []
    },
    "kernelspec": {
      "name": "python3",
      "display_name": "Python 3"
    },
    "language_info": {
      "name": "python"
    },
    "accelerator": "GPU",
    "gpuClass": "standard"
  },
  "cells": [
    {
      "cell_type": "markdown",
      "source": [
        "##Required libraries and settings"
      ],
      "metadata": {
        "id": "iW95qJ9cei71"
      }
    },
    {
      "cell_type": "code",
      "execution_count": null,
      "metadata": {
        "id": "ggP56T6ePlG1"
      },
      "outputs": [],
      "source": [
        "!pip install plotly>=4.7.1\n",
        "!pip install matplotlib==3.5.1\n",
        "!pip install optuna\n",
        "!wget https://github.com/plotly/orca/releases/download/v1.2.1/orca-1.2.1-x86_64.AppImage -O /usr/local/bin/orca\n",
        "!chmod +x /usr/local/bin/orca\n",
        "!apt-get install xvfb libgtk2.0-0 libgconf-2-4"
      ]
    },
    {
      "cell_type": "markdown",
      "source": [
        "##Run the study and the training"
      ],
      "metadata": {
        "id": "xLtVkFHEemJ0"
      }
    },
    {
      "cell_type": "code",
      "source": [
        "#run the optimization and the training loop\n",
        "!python Hype_study_CNN_KFOLD.py"
      ],
      "metadata": {
        "id": "df4AUTyyPzul"
      },
      "execution_count": null,
      "outputs": []
    },
    {
      "cell_type": "markdown",
      "source": [
        "##Compress the results into a zip file"
      ],
      "metadata": {
        "id": "BeweT1dAewvc"
      }
    },
    {
      "cell_type": "code",
      "source": [
        "#create a zip file with all the output in it\n",
        "!zip -r study_CNN_results.zip study_CNN_results"
      ],
      "metadata": {
        "id": "wI0-QWB_QRoR"
      },
      "execution_count": null,
      "outputs": []
    },
    {
      "cell_type": "markdown",
      "source": [
        "##Download locally the zip file containing the results"
      ],
      "metadata": {
        "id": "TYglyTGHeyb6"
      }
    },
    {
      "cell_type": "code",
      "source": [
        "#download the results in your local machine\n",
        "from google.colab import files\n",
        "files.download('study_CNN_results.zip')"
      ],
      "metadata": {
        "id": "yLMBm9OMQT1M"
      },
      "execution_count": null,
      "outputs": []
    }
  ]
}
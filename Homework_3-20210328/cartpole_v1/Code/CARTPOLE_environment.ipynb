{
  "cells": [
    {
      "cell_type": "markdown",
      "metadata": {
        "id": "lwP9bA5VFebD"
      },
      "source": [
        "##Required libraries and settings"
      ]
    },
    {
      "cell_type": "code",
      "execution_count": null,
      "metadata": {
        "id": "VIoYEGTi5p9T"
      },
      "outputs": [],
      "source": [
        "!pip install plotly>=4.7.1\n",
        "!pip install matplotlib==3.5.1\n",
        "!pip install matplotlib\n",
        "!pip install optuna\n",
        "!pip install gym\n",
        "!chmod +x /usr/local/bin/orca\n",
        "!apt-get install xvfb libgtk2.0-0 libgconf-2-4\n",
        "!apt update\n",
        "!apt-get install python-opengl -y\n",
        "!apt install xvfb -y\n",
        "!pip install pyvirtualdisplay\n",
        "!pip install piglet\n",
        "\n",
        "import glob\n",
        "import io\n",
        "import base64\n",
        "import os\n",
        "from IPython.display import HTML\n",
        "from IPython import display as ipythondisplay\n",
        "from pyvirtualdisplay import Display\n",
        "from gym.wrappers import Monitor\n",
        "display = Display(visible=0, size=(1400, 900))\n",
        "display.start()"
      ]
    },
    {
      "cell_type": "markdown",
      "metadata": {
        "id": "XPsVXtfAFx83"
      },
      "source": [
        "##Run the two objectives study"
      ]
    },
    {
      "cell_type": "code",
      "execution_count": null,
      "metadata": {
        "id": "bxzTlFMq5LuX"
      },
      "outputs": [],
      "source": [
        "!python Hype_search_two_objectives.py"
      ]
    },
    {
      "cell_type": "markdown",
      "metadata": {
        "id": "o_3qgXvrHsJJ"
      },
      "source": [
        "##Run the one objective study"
      ]
    },
    {
      "cell_type": "code",
      "execution_count": null,
      "metadata": {
        "id": "lNEU9cvmHuxy"
      },
      "outputs": [],
      "source": [
        "!python Hype_search_one_objective.py"
      ]
    },
    {
      "cell_type": "markdown",
      "metadata": {
        "id": "BMsYgSK3Hwg3"
      },
      "source": [
        "##Run the training"
      ]
    },
    {
      "cell_type": "code",
      "execution_count": null,
      "metadata": {
        "id": "KqTpuVmFHz04"
      },
      "outputs": [],
      "source": [
        "!python training_loop.py"
      ]
    }
  ],
  "metadata": {
    "colab": {
      "name": "CARTPOLE_environment",
      "provenance": [],
      "collapsed_sections": []
    },
    "gpuClass": "standard",
    "kernelspec": {
      "display_name": "Python 3",
      "name": "python3"
    },
    "language_info": {
      "name": "python"
    }
  },
  "nbformat": 4,
  "nbformat_minor": 0
}
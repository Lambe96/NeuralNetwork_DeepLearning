{
  "nbformat": 4,
  "nbformat_minor": 0,
  "metadata": {
    "colab": {
      "name": "PAC_MAN_environment.ipynb",
      "provenance": []
    },
    "kernelspec": {
      "name": "python3",
      "display_name": "Python 3"
    },
    "language_info": {
      "name": "python"
    },
    "accelerator": "GPU",
    "gpuClass": "standard"
  },
  "cells": [
    {
      "cell_type": "markdown",
      "source": [
        "##Required libraries and settings"
      ],
      "metadata": {
        "id": "lwP9bA5VFebD"
      }
    },
    {
      "cell_type": "code",
      "source": [
        "!pip install matplotlib\n",
        "!pip install gym\n",
        "!wget http://www.atarimania.com/roms/Roms.rar\n",
        "!pip install unrar\n",
        "!unrar x /content/Roms.rar\n",
        "!pip install atari-py\n",
        "!python -m atari_py.import_roms /content"
      ],
      "metadata": {
        "id": "VIoYEGTi5p9T"
      },
      "execution_count": null,
      "outputs": []
    },
    {
      "cell_type": "markdown",
      "source": [
        "##Run the training"
      ],
      "metadata": {
        "id": "XPsVXtfAFx83"
      }
    },
    {
      "cell_type": "code",
      "execution_count": null,
      "metadata": {
        "id": "bxzTlFMq5LuX"
      },
      "outputs": [],
      "source": [
        "!python training_loop_pacman.py"
      ]
    }
  ]
}